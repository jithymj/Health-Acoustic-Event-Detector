{
 "cells": [
  {
   "cell_type": "code",
   "execution_count": 1,
   "id": "47b46de8",
   "metadata": {},
   "outputs": [
    {
     "name": "stdout",
     "output_type": "stream",
     "text": [
      "Noise-augmented cough samples saved.\n"
     ]
    }
   ],
   "source": [
    "import os\n",
    "import librosa\n",
    "import numpy as np\n",
    "import soundfile as sf\n",
    "\n",
    "input_dir = r\"D:\\Project\\Data\\Processed\\cough\"\n",
    "output_dir = r\"D:\\Project\\Data\\audio\\cough\"\n",
    "os.makedirs(output_dir, exist_ok=True)\n",
    "\n",
    "def add_white_noise(audio, noise_level=0.005):\n",
    "    noise = np.random.normal(0, noise_level, audio.shape)\n",
    "    return audio + noise\n",
    "\n",
    "for fname in os.listdir(input_dir):\n",
    "    if fname.endswith(\".wav\"):\n",
    "        path = os.path.join(input_dir, fname)\n",
    "        y, sr = librosa.load(path, sr=None)\n",
    "\n",
    "        # Add noise\n",
    "        y_noisy = add_white_noise(y)\n",
    "\n",
    "        # Clip to avoid overflow\n",
    "        y_noisy = np.clip(y_noisy, -1.0, 1.0)\n",
    "\n",
    "        # Save\n",
    "        out_path = os.path.join(output_dir, f\"noisy_{fname}\")\n",
    "        sf.write(out_path, y_noisy, sr)\n",
    "\n",
    "print(\"Noise-augmented cough samples saved.\")\n"
   ]
  },
  {
   "cell_type": "code",
   "execution_count": null,
   "id": "ea16580d",
   "metadata": {},
   "outputs": [
    {
     "name": "stdout",
     "output_type": "stream",
     "text": [
      "✅ Sneeze augmentation completed.\n"
     ]
    }
   ],
   "source": [
    "import os\n",
    "import librosa\n",
    "import numpy as np\n",
    "import soundfile as sf\n",
    "import random\n",
    "\n",
    "input_dir = r\"D:\\Project\\Data\\Processed\\sneeze\\sneeze\"\n",
    "output_dir = r\"D:\\Project\\Data\\audio\\sneeze\"\n",
    "os.makedirs(output_dir, exist_ok=True)\n",
    "\n",
    "def add_noise(data, noise_level=0.003):\n",
    "    noise = np.random.randn(len(data))\n",
    "    return data + noise_level * noise\n",
    "\n",
    "def pitch_shift(data, sr, n_steps=2):\n",
    "    return librosa.effects.pitch_shift(data, sr=sr, n_steps=n_steps)\n",
    "\n",
    "def time_stretch(data, rate=1.1):\n",
    "    return librosa.effects.time_stretch(data, rate=rate)\n",
    "\n",
    "def change_volume(data, gain=1.2):\n",
    "    return data * gain\n",
    "\n",
    "augmentations_per_file = 3\n",
    "\n",
    "for fname in os.listdir(input_dir):\n",
    "    if fname.endswith(\".wav\"):\n",
    "        path = os.path.join(input_dir, fname)\n",
    "        y, sr = librosa.load(path, sr=16000)\n",
    "\n",
    "        for i in range(augmentations_per_file):\n",
    "            y_aug = y.copy()\n",
    "\n",
    "            # Randomly apply 2 augmentations\n",
    "            if random.choice([True, False]):\n",
    "                y_aug = pitch_shift(y_aug, sr, n_steps=random.choice([-1, 1, 2]))\n",
    "            if random.choice([True, False]):\n",
    "                y_aug = time_stretch(y_aug, rate=random.uniform(0.9, 1.1))\n",
    "            if random.choice([True, False]):\n",
    "                y_aug = change_volume(y_aug, gain=random.uniform(0.8, 1.2))\n",
    "            if random.choice([True, False]):\n",
    "                y_aug = add_noise(y_aug, noise_level=random.uniform(0.002, 0.01))\n",
    "\n",
    "            y_aug = np.clip(y_aug, -1.0, 1.0)\n",
    "\n",
    "            out_fname = f\"aug_{i}_{fname}\"\n",
    "            sf.write(os.path.join(output_dir, out_fname), y_aug, sr)\n",
    "\n",
    "print(\" Sneeze augmentation completed.\")\n"
   ]
  },
  {
   "cell_type": "code",
   "execution_count": 4,
   "id": "4b95846c",
   "metadata": {},
   "outputs": [],
   "source": [
    "import os\n",
    "import librosa\n",
    "import soundfile as sf\n",
    "import numpy as np\n",
    "from scipy.signal import butter, lfilter\n",
    "from pedalboard import Pedalboard, Reverb\n",
    "\n",
    "# Paths\n",
    "input_dir = r\"D:\\Project\\Data\\Processed\\sneeze\\sneeze\"\n",
    "output_dir = r\"D:\\Project\\Data\\audio\\sneeze\"\n",
    "os.makedirs(output_dir, exist_ok=True)\n",
    "\n",
    "# Low-pass filter\n",
    "def low_pass_filter(y, sr, cutoff=3000, order=6):\n",
    "    nyq = 0.5 * sr\n",
    "    normal_cutoff = cutoff / nyq\n",
    "    b, a = butter(order, normal_cutoff, btype='low', analog=False)\n",
    "    return lfilter(b, a, y)\n",
    "\n",
    "# Augmentation functions\n",
    "def add_reverb(y, sr):\n",
    "    board = Pedalboard([Reverb(room_size=0.75)])\n",
    "    return board(y, sr)\n",
    "\n",
    "# Process files\n",
    "for filename in os.listdir(input_dir):\n",
    "    if filename.endswith(\".wav\"):\n",
    "        path = os.path.join(input_dir, filename)\n",
    "        y, sr = librosa.load(path, sr=16000)\n",
    "\n",
    "        # Reverb\n",
    "        y_reverb = add_reverb(y, sr)\n",
    "        sf.write(os.path.join(output_dir, filename.replace(\".wav\", \"_reverb.wav\")), y_reverb, sr)\n",
    "\n",
    "        # Low-pass filter\n",
    "        y_lowpass = low_pass_filter(y, sr)\n",
    "        sf.write(os.path.join(output_dir, filename.replace(\".wav\", \"_lowpass.wav\")), y_lowpass, sr)\n"
   ]
  },
  {
   "cell_type": "code",
   "execution_count": null,
   "id": "512b77cd",
   "metadata": {},
   "outputs": [
    {
     "name": "stdout",
     "output_type": "stream",
     "text": [
      "✅ Pitch-shift augmentation complete.\n"
     ]
    }
   ],
   "source": [
    "import os\n",
    "import librosa\n",
    "import soundfile as sf\n",
    "\n",
    "input_dir = r\"D:\\Project\\Data\\Processed\\sneeze\\sneeze\"\n",
    "output_dir = r\"D:\\Project\\Data\\audio\\sneeze\"\n",
    "os.makedirs(output_dir, exist_ok=True)\n",
    "\n",
    "# Define pitch shifts in semitones\n",
    "pitch_shifts = [-2, 2, 3]\n",
    "\n",
    "for fname in os.listdir(input_dir):\n",
    "    if fname.endswith(\".wav\"):\n",
    "        path = os.path.join(input_dir, fname)\n",
    "        y, sr = librosa.load(path, sr=16000)\n",
    "\n",
    "        for shift in pitch_shifts:\n",
    "            y_shifted = librosa.effects.pitch_shift(y, sr=sr, n_steps=shift)\n",
    "            y_shifted = y_shifted[:sr*2]  # Ensure 2 sec max\n",
    "            y_shifted = y_shifted / max(abs(y_shifted))  # Normalize\n",
    "            out_fname = f\"{os.path.splitext(fname)[0]}_pitch{shift:+}.wav\"\n",
    "            sf.write(os.path.join(output_dir, out_fname), y_shifted, sr)\n",
    "\n",
    "print(\" Pitch-shift augmentation complete.\")\n"
   ]
  }
 ],
 "metadata": {
  "kernelspec": {
   "display_name": "Python 3",
   "language": "python",
   "name": "python3"
  },
  "language_info": {
   "codemirror_mode": {
    "name": "ipython",
    "version": 3
   },
   "file_extension": ".py",
   "mimetype": "text/x-python",
   "name": "python",
   "nbconvert_exporter": "python",
   "pygments_lexer": "ipython3",
   "version": "3.9.0"
  }
 },
 "nbformat": 4,
 "nbformat_minor": 5
}
